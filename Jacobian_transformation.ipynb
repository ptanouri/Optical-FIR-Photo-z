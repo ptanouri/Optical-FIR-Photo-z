{
 "cells": [
  {
   "cell_type": "code",
   "execution_count": 99,
   "id": "a6190ebc",
   "metadata": {},
   "outputs": [],
   "source": [
    "import numpy as np\n",
    "import time\n",
    "import matplotlib.pyplot as plt\n",
    "import math\n",
    "import scipy.optimize as optimization\n",
    "from scipy.optimize import curve_fit\n",
    "import random\n",
    "import statistics\n",
    "from random import shuffle\n",
    "from scipy import stats\n",
    "from scipy.stats import binom\n",
    "from scipy.optimize import minimize, rosen, rosen_der\n",
    "from astropy.cosmology import WMAP9 as cosmo\n",
    "import scipy.integrate as integrate\n",
    "from scipy.stats import gaussian_kde\n",
    "from scipy.signal import find_peaks\n",
    "\n",
    "from scipy.integrate import solve_ivp\n",
    "from astropy.modeling import models\n",
    "from astropy import units as u\n",
    "from scipy.constants import h,k,c\n",
    "import warnings\n",
    "warnings.filterwarnings(\"ignore\")\n",
    "from scipy import integrate, interpolate\n",
    "import lmfit\n",
    "import corner\n",
    "from lmfit import Parameters, fit_report, minimize\n",
    "from scipy.stats import norm\n",
    "import scipy\n",
    "from scipy.integrate import quad\n",
    "import emcee\n",
    "from sklearn.neighbors import KernelDensity\n",
    "import sys\n",
    "import os\n",
    "from astropy.modeling import models\n",
    "from astropy import units as u\n",
    "from astropy.coordinates import Distance\n",
    "from astropy.cosmology import Planck15\n",
    "\n",
    "from scipy.integrate import simps\n",
    "\n",
    "import matplotlib.ticker as ticker"
   ]
  },
  {
   "cell_type": "code",
   "execution_count": 100,
   "id": "009789be",
   "metadata": {},
   "outputs": [],
   "source": [
    "data = np.loadtxt('LT_relation.txt')\n",
    "\n",
    "z = data[:,0]\n",
    "# m = data[:,1]\n",
    "\n",
    "T = data [:,10]\n",
    "\n",
    "s250 = data [:,1]\n",
    "s250_err = data[:,2]\n",
    "\n",
    "s350 = data [:,3]\n",
    "s350_err = data[:,4]\n",
    "\n",
    "s500 = data [:,5]\n",
    "s500_err = data[:,6]\n",
    "\n",
    "L_IR = data[:,7]\n",
    "# L_IR = np.delete(L_IR, 171)\n",
    "\n",
    "T_log = np.log10(data [:,10])\n",
    "# T_log = np.delete(T_log, 171)\n",
    "\n",
    "S_list = []\n",
    "S_err_list = []\n",
    "for i in range(len(s250)):\n",
    "    \n",
    "    S_list.append((s250[i],s350[i],s500[i]))\n",
    "    \n",
    "    S_err_list.append((s250_err[i],s350_err[i],s500_err[i]))\n",
    "    \n",
    "\n",
    "S_array = np.array(S_list)\n",
    "\n",
    "S_err_array = np.array(S_err_list)\n",
    "\n"
   ]
  },
  {
   "cell_type": "code",
   "execution_count": 101,
   "id": "3de7f8a1",
   "metadata": {},
   "outputs": [
    {
     "data": {
      "text/plain": [
       "11.462397997898956"
      ]
     },
     "execution_count": 101,
     "metadata": {},
     "output_type": "execute_result"
    }
   ],
   "source": [
    "np.log10(L_IR[90])"
   ]
  },
  {
   "cell_type": "code",
   "execution_count": 102,
   "id": "ee6b85d4",
   "metadata": {},
   "outputs": [
    {
     "data": {
      "text/plain": [
       "24.099999999999998"
      ]
     },
     "execution_count": 102,
     "metadata": {},
     "output_type": "execute_result"
    }
   ],
   "source": [
    "10**(T_log[90])"
   ]
  },
  {
   "cell_type": "code",
   "execution_count": 103,
   "id": "37927a84",
   "metadata": {},
   "outputs": [
    {
     "data": {
      "text/plain": [
       "array([1.19916983e+12, 8.56549880e+11, 5.99584916e+11])"
      ]
     },
     "execution_count": 103,
     "metadata": {},
     "output_type": "execute_result"
    }
   ],
   "source": [
    "wavelen_obs = np.array([250e-6,350e-6,500e-6])\n",
    "    \n",
    "freq_obs = (c/wavelen_obs)\n",
    "\n",
    "beta = 1.5\n",
    "\n",
    "wavelen_obs = np.array([250,350,500])*(10**-6)\n",
    "    \n",
    "freq_obs = (c/wavelen_obs)\n",
    "\n",
    "\n",
    "freq_obs"
   ]
  },
  {
   "cell_type": "code",
   "execution_count": null,
   "id": "4002e541",
   "metadata": {},
   "outputs": [],
   "source": []
  },
  {
   "cell_type": "code",
   "execution_count": null,
   "id": "c569c582",
   "metadata": {},
   "outputs": [],
   "source": []
  },
  {
   "cell_type": "code",
   "execution_count": 104,
   "id": "cebdf65e",
   "metadata": {},
   "outputs": [],
   "source": [
    "\n",
    "\n",
    "index_number = 86\n",
    "\n",
    "\n",
    "\n",
    "spire_fluxes = (S_array[index_number])\n",
    "spire_flux_errors = S_err_array[index_number]\n",
    "\n",
    "# spire_fluxes = np.array([38.8, 56.8, 58.5 ]) \n",
    "# spire_flux_errors = np.array([12.4,7.0,5.3])\n",
    "\n",
    "\n",
    "# actual source parameters\n",
    "actual_z = z[index_number]\n",
    "actual_T = T[index_number]"
   ]
  },
  {
   "cell_type": "code",
   "execution_count": 105,
   "id": "b04d97c7",
   "metadata": {},
   "outputs": [],
   "source": [
    "\n",
    "\n",
    "def convert_to_frequency(lam):\n",
    "    # convert wavelength in um to frequency in Hz\n",
    "    lam = lam * 1e-6\n",
    "    return c / lam\n",
    "\n",
    "def convert_to_wavelength(freq):\n",
    "    # convert frequency in Hz to wavelength in um\n",
    "    return 1e6 * c / freq\n",
    "\n",
    "# ###########################################\n",
    "# # Define constants\n",
    "\n",
    "# # wavelength and frequency grids\n",
    "wa = np.linspace(0.1, 500, 1000)\n",
    "fa = convert_to_frequency(wa)\n",
    "\n",
    "# # SPIRE band wavelengths and frequencies\n",
    "SPIRE_wavelengths = [250, 350, 500]\n",
    "SPIRE_frequencies = [convert_to_frequency(wavelength) for wavelength in SPIRE_wavelengths]\n",
    "\n",
    "Beta = 1.5\n"
   ]
  },
  {
   "cell_type": "code",
   "execution_count": null,
   "id": "0e8111ce",
   "metadata": {},
   "outputs": [],
   "source": []
  },
  {
   "cell_type": "code",
   "execution_count": 106,
   "id": "1f7d5082",
   "metadata": {},
   "outputs": [],
   "source": [
    "c = scipy.constants.c\n",
    "C = (2*scipy.constants.h)/(c*c)\n",
    "\n"
   ]
  },
  {
   "cell_type": "code",
   "execution_count": 107,
   "id": "4376d0fa",
   "metadata": {},
   "outputs": [],
   "source": [
    "def modified_blackbody_distribution(nu, T_obs, A):\n",
    "    nu = nu\n",
    "    \n",
    "\n",
    "    f = (scipy.constants.h)/(scipy.constants.k)\n",
    "\n",
    "    B_nu = (nu**3) / (np.exp(f*nu / T_obs) - 1)\n",
    "    \n",
    "    S_nu = A *C * (nu**Beta) * B_nu  \n",
    "    \n",
    "    return S_nu\n",
    "\n",
    "\n",
    "\n",
    "\n",
    "def deredshifted_modified_blackbody_distribution(nu, T, A, z):\n",
    "    return modified_blackbody_distribution(nu / (1 + z), T, A) / (1 + z)\n",
    "\n",
    "# Vectorize relevant functions\n",
    "vector_modified_blackbody_distribution = np.vectorize(modified_blackbody_distribution)\n",
    "vector_deredshifted_modified_blackbody_distribution = np.vectorize(deredshifted_modified_blackbody_distribution)\n",
    "\n"
   ]
  },
  {
   "cell_type": "code",
   "execution_count": 108,
   "id": "2e1eeb99",
   "metadata": {},
   "outputs": [
    {
     "data": {
      "text/plain": [
       "1.4744994647625417e-50"
      ]
     },
     "execution_count": 108,
     "metadata": {},
     "output_type": "execute_result"
    }
   ],
   "source": [
    "C"
   ]
  },
  {
   "cell_type": "code",
   "execution_count": null,
   "id": "78b8924d",
   "metadata": {},
   "outputs": [],
   "source": []
  },
  {
   "cell_type": "code",
   "execution_count": null,
   "id": "cfe74f9e",
   "metadata": {},
   "outputs": [],
   "source": []
  },
  {
   "cell_type": "code",
   "execution_count": null,
   "id": "d2a9ac35",
   "metadata": {},
   "outputs": [],
   "source": []
  },
  {
   "cell_type": "code",
   "execution_count": 109,
   "id": "e556b214",
   "metadata": {},
   "outputs": [
    {
     "data": {
      "text/plain": [
       "array(4.74731614)"
      ]
     },
     "execution_count": 109,
     "metadata": {},
     "output_type": "execute_result"
    }
   ],
   "source": [
    "vector_deredshifted_modified_blackbody_distribution(3597509496000,15,1,10)"
   ]
  },
  {
   "cell_type": "code",
   "execution_count": 110,
   "id": "6ba3d0f9",
   "metadata": {},
   "outputs": [
    {
     "data": {
      "text/plain": [
       "array(6.44939191e+26)"
      ]
     },
     "execution_count": 110,
     "metadata": {},
     "output_type": "execute_result"
    }
   ],
   "source": [
    "def compute_lum_dist(z_input):\n",
    "    \"\"\"\n",
    "    Return the luminosity distance in SI units given redshift\n",
    "    \"\"\"\n",
    "    return Distance(z=z_input, cosmology=Planck15).si.value\n",
    "\n",
    "vector_compute_lum_dist = np.vectorize(compute_lum_dist)\n",
    "\n",
    "\n",
    "vector_compute_lum_dist(2.5)"
   ]
  },
  {
   "cell_type": "code",
   "execution_count": 111,
   "id": "7c9368f0",
   "metadata": {},
   "outputs": [
    {
     "data": {
      "text/plain": [
       "array([1.53794586e-07, 2.01541352e-05, 4.88158400e-04])"
      ]
     },
     "execution_count": 111,
     "metadata": {},
     "output_type": "execute_result"
    }
   ],
   "source": [
    "deredshifted_modified_blackbody_distribution(freq_obs, 0.85779910,9.99994268,2)"
   ]
  },
  {
   "cell_type": "markdown",
   "id": "7de66a9c",
   "metadata": {},
   "source": [
    "$L = 10^{a.T + b} *3.828e26 $\n",
    "\n",
    "$log L = a*log T + b$"
   ]
  },
  {
   "cell_type": "code",
   "execution_count": null,
   "id": "5854f4d1",
   "metadata": {},
   "outputs": [],
   "source": []
  },
  {
   "cell_type": "code",
   "execution_count": null,
   "id": "4367d97c",
   "metadata": {},
   "outputs": [],
   "source": []
  },
  {
   "cell_type": "code",
   "execution_count": 112,
   "id": "a7b0e78f",
   "metadata": {},
   "outputs": [
    {
     "name": "stdout",
     "output_type": "stream",
     "text": [
      "[0.45636791]\n"
     ]
    }
   ],
   "source": [
    "# define polynomial L-T Relation (returns luminosity fit as a function of temperature)\n",
    "# best_fit_poly = [ 0.0551555, 10.28462301]\n",
    "\n",
    "# best_fit_poly = [ 0.76968852, 10.77091009]\n",
    "\n",
    "best_fit_poly = [0.13930927, 5.9594352]\n",
    "\n",
    "# best_fit_poly = [0.02252097, 11.07044504]\n",
    "\n",
    "\n",
    "# here 0.0.04277595673913994 comes from sum of y distrance between L_LOW and L_high\n",
    "\n",
    "# f computes the luminosity in SI units from the temperature\n",
    "# f = lambda e: (10**(np.polyval(best_fit_poly, e)) * 3.828e26 )\n",
    "\n",
    "x_scatter = np.random.normal(0, 0.5, 1)\n",
    "\n",
    "print(x_scatter)\n",
    "\n",
    "f = lambda e: (10**(np.polyval(best_fit_poly, e)+ x_scatter )) * 3.828e26 \n",
    "\n",
    "\n",
    "# f = lambda e: (10**(np.polyval(best_fit_poly, e) ) + 10** (x_scatter)) * 3.828e26 \n",
    "\n",
    "\n",
    "# alpha, gamma = [35.16032414071534,2.0976051485803406]\n",
    "\n",
    "# alpha, gamma = [35.69878087,1.77516506]\n",
    "\n",
    "# f = lambda e: (10**alpha)*(e**gamma)\n",
    "\n",
    "\n",
    "# compute derivative of L-T function\n",
    "der_poly = np.polyder(best_fit_poly)\n",
    "# df_de = lambda e: gamma*(10**alpha)*(e**(gamma-1))\n",
    "\n",
    "df_de = lambda e: np.log(10) * np.polyval(der_poly, e) * f(e)\n"
   ]
  },
  {
   "cell_type": "code",
   "execution_count": 113,
   "id": "445277cb",
   "metadata": {},
   "outputs": [],
   "source": [
    "# Set up function to interpolate derivative of luminosity function\n",
    "start = 0.01\n",
    "end = 7.5\n",
    "steps = 3000\n",
    "\n",
    "z_grid, dz = np.linspace(start, end, steps, retstep=True)\n",
    "\n",
    "DL = vector_compute_lum_dist(z_grid)\n",
    "dDL_dz = np.gradient(DL, dz)\n",
    "dDL_map = interpolate.interp1d(z_grid, dDL_dz)"
   ]
  },
  {
   "cell_type": "code",
   "execution_count": 114,
   "id": "3fb8d2f7",
   "metadata": {},
   "outputs": [
    {
     "data": {
      "text/plain": [
       "1.4744994647625417e-50"
      ]
     },
     "execution_count": 114,
     "metadata": {},
     "output_type": "execute_result"
    }
   ],
   "source": [
    "C"
   ]
  },
  {
   "cell_type": "code",
   "execution_count": 115,
   "id": "f68795f2",
   "metadata": {},
   "outputs": [],
   "source": [
    "########################### Define transformation of variables functions ###########################\n",
    "\n",
    "################## Define coordinate functions ##################\n",
    "\n",
    "def g(z, e, S):\n",
    "    # returns A as a function of z, e, S(z, e)\n",
    "    return f(e) / (S * 4 * np.pi * compute_lum_dist(z)**2)\n",
    "\n",
    "def h(z, e):\n",
    "    # returns T_obs as a function of z, e\n",
    "    return e / (1 + z)\n",
    "\n",
    "################## Define integration functions ##################\n",
    "\n",
    "# Set integration constant params\n",
    "upper_bound_b = convert_to_frequency(8)\n",
    "lower_bound_c = convert_to_frequency(1000)\n",
    "\n",
    "def integrate_S(z, e):\n",
    "    # Compute source frame flux with A = 1\n",
    "    fitted_func = lambda nu: vector_deredshifted_modified_blackbody_distribution(nu, T = e, A=1, z = z)\n",
    "    F_TIR = integrate.quad(fitted_func, lower_bound_c, upper_bound_b)\n",
    "    F_TIR = F_TIR[0]\n",
    "    return F_TIR "
   ]
  },
  {
   "cell_type": "code",
   "execution_count": null,
   "id": "8f71228c",
   "metadata": {},
   "outputs": [],
   "source": []
  },
  {
   "cell_type": "code",
   "execution_count": null,
   "id": "1ca0abee",
   "metadata": {},
   "outputs": [],
   "source": []
  },
  {
   "cell_type": "code",
   "execution_count": 332,
   "id": "99972043",
   "metadata": {},
   "outputs": [],
   "source": [
    "def integrate_dS_dz(z, e):\n",
    "    # Compute dS_dz\n",
    "    fitted_func = lambda nu: dS_dz(nu, T = e , z = z)\n",
    "    F_TIR = integrate.quad(fitted_func, lower_bound_c, upper_bound_b)\n",
    "    F_TIR = F_TIR[0]\n",
    "    return F_TIR\n",
    "\n",
    "\n",
    "def dS_dz(nu, T, z):\n",
    "    Beta = 1.5\n",
    "    nu = nu \n",
    "\n",
    "    f = (scipy.constants.h)/(scipy.constants.k)\n",
    "\n",
    "    return - C*(4 + Beta) * nu**(3 + Beta) * (1/(1 + z)**(5 + Beta))  / (np.exp(f*nu / T) - 1) \n",
    "\n",
    "\n",
    "\n",
    "def integrate_dS_de(z, e):\n",
    "    # Compute dS_de\n",
    "    fitted_func = lambda nu: dS_de(nu, T_e = e , z = z)\n",
    "    F_TIR = integrate.quad(fitted_func, lower_bound_c, upper_bound_b)\n",
    "    F_TIR = F_TIR[0]\n",
    "    return F_TIR \n",
    "\n",
    "\n",
    "\n",
    "\n",
    "def dS_de(nu, T_e, z):\n",
    "    Beta = 1.5\n",
    "    nu = nu \n",
    "\n",
    "    f = (scipy.constants.h)/(scipy.constants.k)\n",
    "\n",
    "    dS = nu**(3 + Beta) * (1/(1 + z)**(4 + Beta)) * (f*nu/T_e**2) * np.exp(f*nu / T_e)  / (np.exp(f*nu/T_e) - 1)**2\n",
    "    \n",
    "    return dS \n",
    "\n",
    "\n"
   ]
  },
  {
   "cell_type": "code",
   "execution_count": 333,
   "id": "b98363f7",
   "metadata": {},
   "outputs": [
    {
     "data": {
      "text/plain": [
       "<function __main__.h(z, e)>"
      ]
     },
     "execution_count": 333,
     "metadata": {},
     "output_type": "execute_result"
    }
   ],
   "source": [
    "h"
   ]
  },
  {
   "cell_type": "code",
   "execution_count": 334,
   "id": "bd8051a9",
   "metadata": {},
   "outputs": [],
   "source": [
    "# ################## Define derivative functions ##################\n",
    "\n",
    "# ######### dg_dz and helpers #########\n",
    "\n",
    "def dg_dz(z, e, S):\n",
    "    g1, dg1_dz = get_g1z_vals(z, e, S)\n",
    "    g2, dg2_dz = get_g2z_vals(z, e, S)\n",
    "    return dg1_dz*g2 + g1*dg2_dz\n",
    "\n",
    "\n",
    "def get_g1z_vals(z, e, S):\n",
    "    g1 = 1 / S\n",
    "\n",
    "    integrated_dS_dz = np.vectorize(integrate_dS_dz)(z, e)\n",
    "    dg1_dz = (- 1 / S**2) * integrated_dS_dz\n",
    "    return g1, dg1_dz\n",
    "\n",
    "def get_g2z_vals(z, e, S):\n",
    "    g2 = f(e) / (4 * np.pi * compute_lum_dist(z)**2)\n",
    "    dg2_dz = - 2 * f(e) / (4 * np.pi * compute_lum_dist(z)**3) * dDL_map(z)\n",
    "    return g2, dg2_dz\n"
   ]
  },
  {
   "cell_type": "code",
   "execution_count": 335,
   "id": "0331e334",
   "metadata": {},
   "outputs": [],
   "source": [
    "\n",
    "# ######### dg_de and helpers #########\n",
    "\n",
    "def dg_de(z, e, S):\n",
    "    g1, dg1_de = get_g1e_vals(z, e, S)\n",
    "    g2, dg2_de = get_g2e_vals(z, e)\n",
    "    return dg1_de*g2 + g1*dg2_de\n",
    "\n",
    "def get_g1e_vals(z, e, S):\n",
    "    g1 = 1 / S\n",
    "    dg1_de = - 1 / S**2 * np.vectorize(integrate_dS_de)(z, e)\n",
    "    return g1, dg1_de\n",
    "\n",
    "def get_g2e_vals(z, e):\n",
    "    g2 = f(e) / (4 * np.pi * compute_lum_dist(z)**2)\n",
    "    dg2_de = df_de(e) / (4 * np.pi * compute_lum_dist(z)**2)\n",
    "    return g2, dg2_de"
   ]
  },
  {
   "cell_type": "code",
   "execution_count": 336,
   "id": "5e1fc268",
   "metadata": {},
   "outputs": [],
   "source": [
    "\n",
    "# ######### dh and helpers #########\n",
    "\n",
    "def dh_dz(z, e):\n",
    "    return - e / (1 + z)**2\n",
    "\n",
    "def dh_de(z, e):\n",
    "    \n",
    "    \n",
    "    return 1 / (1 + z)"
   ]
  },
  {
   "cell_type": "code",
   "execution_count": 337,
   "id": "12f67559",
   "metadata": {},
   "outputs": [],
   "source": [
    "\n",
    "# ######### pdf functions and helpers #########\n",
    "def get_coords(z, e):\n",
    "    # returns output coordinates from z and T_obs\n",
    "    S = integrate_S(z, e)\n",
    "    return np.array([h(z, e), g(z, e, S)])\n",
    "\n",
    "def jacobian(z, e, S):\n",
    "    # returns the jacobian from coordinates\n",
    "    return np.abs(dg_dz(z, e, S)*dh_de(z, e) - dg_de(z, e, S)*dh_dz(z, e))"
   ]
  },
  {
   "cell_type": "code",
   "execution_count": 338,
   "id": "114d7a53",
   "metadata": {},
   "outputs": [],
   "source": [
    "# Grid resolution\n",
    "N = 80\n",
    "M = 80\n",
    "# Number of steps taken in MCMC\n",
    "MCMC_steps = 1000"
   ]
  },
  {
   "cell_type": "code",
   "execution_count": 339,
   "id": "d65a52ac",
   "metadata": {},
   "outputs": [
    {
     "data": {
      "text/plain": [
       "<function __main__.h(z, e)>"
      ]
     },
     "execution_count": 339,
     "metadata": {},
     "output_type": "execute_result"
    }
   ],
   "source": [
    "h"
   ]
  },
  {
   "cell_type": "code",
   "execution_count": 340,
   "id": "a34e5525",
   "metadata": {},
   "outputs": [
    {
     "name": "stdout",
     "output_type": "stream",
     "text": [
      "Initializing parameters\n",
      "finished flux grid\n",
      "finished output coordinate grid\n",
      "finished jacobian\n"
     ]
    }
   ],
   "source": [
    "# Define search grid\n",
    "z_grid = np.linspace(0.1, 4.5, N)\n",
    "e_grid = np.linspace(5, 50, M)\n",
    "\n",
    "# Define Mesh\n",
    "zz, ee = np.meshgrid(z_grid, e_grid)\n",
    "\n",
    "# Define corresponding mesh of indices\n",
    "z_index, e_index = np.meshgrid(range(len(z_grid)), range(len(e_grid)))\n",
    "\n",
    "# print(\"Initializing parameters\")\n",
    "# time0 = time.time()\n",
    "\n",
    "\n",
    "S_grid = np.vectorize(integrate_S)(zz, ee)\n",
    "\n",
    "hh, gg = np.vectorize(h)(zz, ee), np.vectorize(g)(zz, ee, S_grid)\n",
    "\n",
    "# Compute relevant values at each point\n",
    "print(\"Initializing parameters\")\n",
    "time0 = time.time()\n",
    "\n",
    "# evaluate flux at each point in mesh\n",
    "S_grid = np.vectorize(integrate_S)(zz, ee)\n",
    "print(\"finished flux grid\")\n",
    "\n",
    "# get change of variables points at each location in mesh\n",
    "hh, gg = np.vectorize(h)(zz, ee), np.vectorize(g)(zz, ee, S_grid)\n",
    "print(\"finished output coordinate grid\")\n",
    "\n",
    "# evaluate jacobian at each point in mesh\n",
    "jacob = np.vectorize(jacobian)(zz, ee, S_grid)\n",
    "print(\"finished jacobian\")\n",
    "\n",
    "# time1 = time.time()\n",
    "\n",
    "# print(\"Initialization took: \", time1 - time0)"
   ]
  },
  {
   "cell_type": "code",
   "execution_count": 125,
   "id": "2750a5d9",
   "metadata": {},
   "outputs": [
    {
     "data": {
      "text/plain": [
       "array([19.9, 17.8, 15.5])"
      ]
     },
     "execution_count": 125,
     "metadata": {},
     "output_type": "execute_result"
    }
   ],
   "source": [
    "spire_fluxes"
   ]
  },
  {
   "cell_type": "code",
   "execution_count": 126,
   "id": "277b400e",
   "metadata": {},
   "outputs": [
    {
     "data": {
      "text/plain": [
       "array([10.60653949, 12.24381856,  8.79873667])"
      ]
     },
     "execution_count": 126,
     "metadata": {},
     "output_type": "execute_result"
    }
   ],
   "source": [
    "vector_modified_blackbody_distribution(freq_obs, 10, 0.1)"
   ]
  },
  {
   "cell_type": "code",
   "execution_count": 317,
   "id": "5b465af1",
   "metadata": {},
   "outputs": [
    {
     "data": {
      "image/png": "[encoded data removed]",
      "text/plain": [
       "<Figure size 640x480 with 1 Axes>"
      ]
     },
     "metadata": {},
     "output_type": "display_data"
    },
    {
     "name": "stdout",
     "output_type": "stream",
     "text": [
      "[[Variables]]\n",
      "    T0:  25.7615430 (init = 10)\n",
      "    A0:  0.00758907 (init = 1)\n",
      "--------------------------------------------\n",
      "Theoretical T_obs =  25.665859564164652\n"
     ]
    }
   ],
   "source": [
    "# Set initial fit parameters\n",
    "p0 = (10, 1)\n",
    "p = lmfit.Parameters()\n",
    "p.add_many(('T0', p0[0]), ('A0', p0[1]))\n",
    "v = p.valuesdict()\n",
    "\n",
    "def residual(p):\n",
    "    v = p.valuesdict()\n",
    "    return (vector_modified_blackbody_distribution(freq_obs, v['T0'], v['A0']) - spire_fluxes) / spire_flux_errors\n",
    "\n",
    "# Obtain initial fit using minimizers\n",
    "mi = lmfit.minimize(residual, p, method='nelder')\n",
    "# lmfit.printfuncs.report_fit(mi.params, min_correl=0.0)\n",
    "\n",
    "# Show best fit model\n",
    "T_obs = mi.params['T0'].value\n",
    "A = mi.params['A0'].value\n",
    "best_fit = vector_modified_blackbody_distribution(fa, T_obs, A)\n",
    "\n",
    "plt.xlabel('Wavelength (um)', fontsize = 11)\n",
    "plt.ylabel('Flux Density (mJy)', fontsize = 11)\n",
    "plt.plot(wa, best_fit, label='Best fitting\\nmodel')\n",
    "plt.errorbar(SPIRE_wavelengths, spire_fluxes, yerr=spire_flux_errors)\n",
    "\n",
    "# plt.loglog()\n",
    "# plt.xlim(5e1,6e2)\n",
    "# plt.ylim(1e-1,2e1)\n",
    "plt.show()\n",
    "\n",
    "lmfit.printfuncs.report_fit(mi.params, min_correl=0.0)\n",
    "print('--------------------------------------------')\n",
    "print('Theoretical T_obs = ', T[index_number]/(1+z[index_number]))\n"
   ]
  },
  {
   "cell_type": "code",
   "execution_count": 283,
   "id": "2deb9c48",
   "metadata": {},
   "outputs": [
    {
     "data": {
      "text/plain": [
       "array([106.06539489, 122.43818555,  87.98736672])"
      ]
     },
     "execution_count": 283,
     "metadata": {},
     "output_type": "execute_result"
    }
   ],
   "source": [
    "vector_modified_blackbody_distribution(freq_obs, v['T0'], v['A0'])"
   ]
  },
  {
   "cell_type": "code",
   "execution_count": null,
   "id": "2c606ec4",
   "metadata": {},
   "outputs": [],
   "source": []
  },
  {
   "cell_type": "code",
   "execution_count": null,
   "id": "19c10eb6",
   "metadata": {},
   "outputs": [],
   "source": []
  },
  {
   "cell_type": "code",
   "execution_count": 354,
   "id": "3dc30bd7",
   "metadata": {},
   "outputs": [
    {
     "data": {
      "image/png": "[encoded data removed]",
      "text/plain": [
       "<Figure size 640x480 with 1 Axes>"
      ]
     },
     "metadata": {},
     "output_type": "display_data"
    },
    {
     "name": "stdout",
     "output_type": "stream",
     "text": [
      "[[Variables]]\n",
      "    T0:  9.55679024 (init = 10)\n",
      "    A0:  0.13930862 (init = 1)\n",
      "--------------------------------------------\n",
      "Theoretical T_obs =  8.51293103448276\n"
     ]
    }
   ],
   "source": [
    "\n",
    "\n",
    "index_number = 34\n",
    "\n",
    "\n",
    "spire_fluxes = (S_array[index_number])\n",
    "spire_flux_errors = S_err_array[index_number]\n",
    "\n",
    "# spire_fluxes = np.array([38.8, 56.8, 58.5 ]) \n",
    "# spire_flux_errors = np.array([12.4,7.0,5.3])\n",
    "\n",
    "# actual source parameters\n",
    "actual_z = z[index_number]\n",
    "actual_T = T[index_number]\n",
    "\n",
    "# Set initial fit parameters\n",
    "p0 = (10, 1)\n",
    "p = lmfit.Parameters()\n",
    "p.add_many(('T0', p0[0]), ('A0', p0[1]))\n",
    "v = p.valuesdict()\n",
    "\n",
    "def residual(p):\n",
    "    v = p.valuesdict()\n",
    "    return (vector_modified_blackbody_distribution(freq_obs, v['T0'], v['A0']) - spire_fluxes) / spire_flux_errors\n",
    "\n",
    "# Obtain initial fit using minimizers\n",
    "mi = lmfit.minimize(residual, p, method='nelder')\n",
    "# lmfit.printfuncs.report_fit(mi.params, min_correl=0.0)\n",
    "\n",
    "# Show best fit model\n",
    "T_obs = mi.params['T0'].value\n",
    "A = mi.params['A0'].value\n",
    "best_fit = vector_modified_blackbody_distribution(fa, T_obs, A)\n",
    "\n",
    "plt.xticks(fontsize=16)\n",
    "plt.yticks(fontsize=16)\n",
    "\n",
    "plt.xlabel('Wavelength ($\\mu$m)', fontsize=18)\n",
    "\n",
    "plt.ylabel('Flux density [mJ]', fontsize = 18)\n",
    "plt.plot(wa, best_fit, label='Best fitting\\nmodel')\n",
    "plt.errorbar(SPIRE_wavelengths, spire_fluxes, yerr=spire_flux_errors)\n",
    "plt.show()\n",
    "\n",
    "lmfit.printfuncs.report_fit(mi.params, min_correl=0.0)\n",
    "print('--------------------------------------------')\n",
    "print('Theoretical T_obs = ', T[index_number]/(1+z[index_number]))\n",
    "\n",
    "\n",
    "\n",
    "\n"
   ]
  },
  {
   "cell_type": "code",
   "execution_count": null,
   "id": "2cdf764c",
   "metadata": {},
   "outputs": [],
   "source": []
  },
  {
   "cell_type": "code",
   "execution_count": 356,
   "id": "b13e152a",
   "metadata": {},
   "outputs": [
    {
     "data": {
      "text/plain": [
       "0.673"
      ]
     },
     "execution_count": 356,
     "metadata": {},
     "output_type": "execute_result"
    }
   ],
   "source": [
    "z[86]"
   ]
  },
  {
   "cell_type": "markdown",
   "id": "0660ac1d",
   "metadata": {},
   "source": [
    "# ######"
   ]
  },
  {
   "cell_type": "code",
   "execution_count": 361,
   "id": "5604eb57",
   "metadata": {},
   "outputs": [
    {
     "data": {
      "image/png": "[encoded data removed]",
      "text/plain": [
       "<Figure size 640x480 with 1 Axes>"
      ]
     },
     "metadata": {},
     "output_type": "display_data"
    },
    {
     "name": "stdout",
     "output_type": "stream",
     "text": [
      "[[Variables]]\n",
      "    T0:  12.4700904 (init = 10)\n",
      "    A0:  0.05016292 (init = 1)\n",
      "--------------------------------------------\n",
      "Theoretical T_obs =  12.457586039747941\n"
     ]
    }
   ],
   "source": [
    "index_number = 422\n",
    "spire_fluxes, spire_flux_errors = S_array[index_number], S_err_array[index_number]\n",
    "actual_z, actual_T = z[index_number], T[index_number]\n",
    "\n",
    "# Set initial fit parameters\n",
    "p = lmfit.Parameters()\n",
    "p.add_many(('T0', 10), ('A0', 1))\n",
    "\n",
    "# Define residual function\n",
    "def residual(p):\n",
    "    v = p.valuesdict()\n",
    "    return (vector_modified_blackbody_distribution(freq_obs, v['T0'], v['A0']) - spire_fluxes) / spire_flux_errors\n",
    "\n",
    "# Obtain initial fit using minimizers\n",
    "mi = lmfit.minimize(residual, p, method='nelder')\n",
    "\n",
    "# Show best fit model\n",
    "T_obs, A = mi.params['T0'].value, mi.params['A0'].value\n",
    "best_fit = vector_modified_blackbody_distribution(fa, T_obs, A)\n",
    "\n",
    "# Plotting\n",
    "plt.loglog()\n",
    "plt.xlabel('Wavelength [$\\mu$m]', fontsize=18)\n",
    "plt.ylabel('Flux density [mJ]', fontsize = 18)\n",
    "plt.plot(wa, best_fit, label='Best fitting\\nmodel')\n",
    "plt.errorbar(SPIRE_wavelengths, spire_fluxes, yerr=spire_flux_errors)\n",
    "plt.xlim(5e1,6e2)\n",
    "plt.ylim(1e-1,2e1)\n",
    "\n",
    "# Set the locations of the xticks\n",
    "locs = np.append(plt.gca().xaxis.get_major_locator().tick_values(5e1,6e2), [250, 350,500])\n",
    "plt.gca().xaxis.set_major_locator(ticker.FixedLocator(locs))\n",
    "\n",
    "# Set the labels of the xticks\n",
    "labels = [str(int(loc)) if loc >= 100 else '' for loc in locs]\n",
    "plt.gca().xaxis.set_major_formatter(ticker.FixedFormatter(labels))\n",
    "\n",
    "plt.xticks(fontsize=16)\n",
    "plt.yticks(fontsize=16)\n",
    "plt.show()\n",
    "\n",
    "lmfit.printfuncs.report_fit(mi.params, min_correl=0.0)\n",
    "print('--------------------------------------------')\n",
    "print('Theoretical T_obs = ', T[index_number]/(1+z[index_number]))"
   ]
  },
  {
   "cell_type": "code",
   "execution_count": null,
   "id": "76b19fa9",
   "metadata": {},
   "outputs": [],
   "source": []
  },
  {
   "cell_type": "code",
   "execution_count": null,
   "id": "8c779b5c",
   "metadata": {},
   "outputs": [],
   "source": []
  },
  {
   "cell_type": "code",
   "execution_count": null,
   "id": "ec9d4b59",
   "metadata": {},
   "outputs": [],
   "source": []
  },
  {
   "cell_type": "code",
   "execution_count": null,
   "id": "85ed5a4b",
   "metadata": {},
   "outputs": [],
   "source": []
  },
  {
   "cell_type": "code",
   "execution_count": null,
   "id": "6e2e1fa5",
   "metadata": {},
   "outputs": [],
   "source": []
  },
  {
   "cell_type": "code",
   "execution_count": null,
   "id": "e74258bc",
   "metadata": {},
   "outputs": [],
   "source": []
  },
  {
   "cell_type": "code",
   "execution_count": null,
   "id": "d0419ede",
   "metadata": {},
   "outputs": [],
   "source": []
  },
  {
   "cell_type": "code",
   "execution_count": null,
   "id": "963836a4",
   "metadata": {},
   "outputs": [],
   "source": []
  },
  {
   "cell_type": "code",
   "execution_count": null,
   "id": "2bd0aad5",
   "metadata": {},
   "outputs": [],
   "source": []
  }
 ],
 "metadata": {
  "kernelspec": {
   "display_name": "Python 3 (ipykernel)",
   "language": "python",
   "name": "python3"
  },
  "language_info": {
   "codemirror_mode": {
    "name": "ipython",
    "version": 3
   },
   "file_extension": ".py",
   "mimetype": "text/x-python",
   "name": "python",
   "nbconvert_exporter": "python",
   "pygments_lexer": "ipython3",
   "version": "3.12.7"
  }
 },
 "nbformat": 4,
 "nbformat_minor": 5
}
